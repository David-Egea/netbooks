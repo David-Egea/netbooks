{
 "cells": [
  {
   "attachments": {},
   "cell_type": "markdown",
   "metadata": {},
   "source": [
    "# Producer"
   ]
  },
  {
   "cell_type": "code",
   "execution_count": 1,
   "metadata": {},
   "outputs": [
    {
     "name": "stdout",
     "output_type": "stream",
     "text": [
      "\u001b[1mNew producer created:\u001b[0m\n",
      "\u001b[95m * PRODUCER ID:\u001b[0m\n",
      "\u001b[94m * Bootstrap server 0: localhost:9092\u001b[0m\n"
     ]
    }
   ],
   "source": [
    "from src.kafka_producer import Producer\n",
    "\n",
    "# Producer configuration\n",
    "myproducer = Producer(\n",
    "    bootstrap_servers = 'localhost:9092',\n",
    "    PRODUCER_ID = \"David\"\n",
    ")"
   ]
  },
  {
   "cell_type": "code",
   "execution_count": 10,
   "metadata": {},
   "outputs": [
    {
     "name": "stdout",
     "output_type": "stream",
     "text": [
      "[\u001b[94mDavid\u001b[0m] Message successfully sent to \u001b[96mejercicio-1\u001b[0m\n"
     ]
    }
   ],
   "source": [
    "myproducer.publish_notebook(\n",
    "    topic = \"ejercicio-1\",\n",
    "    source_nb = \"C:\\\\Users\\\\egeah\\\\netbooks\\\\\\mipractica.ipynb\",\n",
    "    cells = [0],\n",
    "    cell_types = ['code','markdown']\n",
    ")"
   ]
  },
  {
   "cell_type": "code",
   "execution_count": 11,
   "metadata": {},
   "outputs": [
    {
     "name": "stdout",
     "output_type": "stream",
     "text": [
      "[\u001b[94mDavid\u001b[0m] Message successfully sent to \u001b[96mejercicio-2\u001b[0m\n"
     ]
    }
   ],
   "source": [
    "myproducer.publish_notebook(\n",
    "    topic = \"ejercicio-2\",\n",
    "    source_nb = \"C:\\\\Users\\\\egeah\\\\netbooks\\\\\\mipractica.ipynb\",\n",
    "    cells = [1,2],\n",
    "    cell_types = ['code','markdown']\n",
    ")"
   ]
  }
 ],
 "metadata": {
  "kernelspec": {
   "display_name": "IntEmp",
   "language": "python",
   "name": "python3"
  },
  "language_info": {
   "codemirror_mode": {
    "name": "ipython",
    "version": 3
   },
   "file_extension": ".py",
   "mimetype": "text/x-python",
   "name": "python",
   "nbconvert_exporter": "python",
   "pygments_lexer": "ipython3",
   "version": "3.10.9"
  },
  "orig_nbformat": 4
 },
 "nbformat": 4,
 "nbformat_minor": 2
}
