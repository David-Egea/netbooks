{
 "cells": [
  {
   "attachments": {},
   "cell_type": "markdown",
   "metadata": {},
   "source": [
    "# Producer"
   ]
  },
  {
   "cell_type": "code",
   "execution_count": 1,
   "metadata": {},
   "outputs": [
    {
     "name": "stdout",
     "output_type": "stream",
     "text": [
      "\u001b[1mNew producer created:\u001b[0m\n",
      "\u001b[95m * PRODUCER ID: Me\u001b[0m\n",
      "\u001b[94m * Bootstrap server 0: 34.175.78.32:9092\u001b[0m\n"
     ]
    }
   ],
   "source": [
    "from src.kafka_producer import Producer\n",
    "\n",
    "# Producer configuration\n",
    "myproducer = Producer(\n",
    "    bootstrap_servers = '34.175.78.32:9092',\n",
    "    PRODUCER_ID = \"Me\"\n",
    ")"
   ]
  },
  {
   "cell_type": "code",
   "execution_count": 2,
   "metadata": {},
   "outputs": [
    {
     "name": "stdout",
     "output_type": "stream",
     "text": [
      "[\u001b[94mMe\u001b[0m] Message successfully sent to topics: \n",
      "- \u001b[96mejercicio-1\u001b[0m\n"
     ]
    }
   ],
   "source": [
    "myproducer.publish_notebook(\n",
    "    topics = [\"ejercicio-1\"],\n",
    "    source_nb = \"notebookA.ipynb\",\n",
    "    cell_types = ['code','markdown']\n",
    ")"
   ]
  }
 ],
 "metadata": {
  "kernelspec": {
   "display_name": "IntEmp",
   "language": "python",
   "name": "python3"
  },
  "language_info": {
   "codemirror_mode": {
    "name": "ipython",
    "version": 3
   },
   "file_extension": ".py",
   "mimetype": "text/x-python",
   "name": "python",
   "nbconvert_exporter": "python",
   "pygments_lexer": "ipython3",
   "version": "3.10.9"
  },
  "orig_nbformat": 4
 },
 "nbformat": 4,
 "nbformat_minor": 2
}
