{
 "cells": [
  {
   "attachments": {},
   "cell_type": "markdown",
   "metadata": {},
   "source": [
    "# Producer"
   ]
  },
  {
   "cell_type": "code",
   "execution_count": 1,
   "metadata": {},
   "outputs": [
    {
     "name": "stdout",
     "output_type": "stream",
     "text": [
      "\u001b[1mNew producer created:\u001b[0m\n",
      "\u001b[95m * PRODUCER ID: Me\u001b[0m\n",
      "\u001b[94m * Bootstrap server 0: localhost:9092\u001b[0m\n"
     ]
    }
   ],
   "source": [
    "from src.kafka_producer import Producer\n",
    "\n",
    "# Producer configuration\n",
    "myproducer = Producer(\n",
    "    bootstrap_servers = 'localhost:9092',\n",
    "    PRODUCER_ID = \"Me\"\n",
    ")"
   ]
  },
  {
   "cell_type": "code",
   "execution_count": 2,
   "metadata": {},
   "outputs": [
    {
     "name": "stdout",
     "output_type": "stream",
     "text": [
      "[\u001b[94mMe\u001b[0m] Message successfully sent to topics: \n",
      "- \u001b[96mejercicio-1\u001b[0m\n"
     ]
    }
   ],
   "source": [
    "myproducer.publish_notebook(\n",
    "    topics = [\"ejercicio-1\"],\n",
    "    source_nb = \"C:\\\\Users\\\\egeah\\\\netbooks\\\\notebookA.ipynb\",\n",
    "    cell_types = ['code','markdown'],\n",
    "    first_cell = 0,\n",
    "    last_cell = 2\n",
    ")"
   ]
  },
  {
   "cell_type": "code",
   "execution_count": 5,
   "metadata": {},
   "outputs": [
    {
     "name": "stdout",
     "output_type": "stream",
     "text": [
      "[\u001b[94mMe\u001b[0m] Message successfully sent to topics: \n",
      "- \u001b[96mejercicio-1\u001b[0m\n",
      "- \u001b[96mejercicio-2\u001b[0m\n"
     ]
    }
   ],
   "source": [
    "myproducer.publish_notebook(\n",
    "    topics = [\"ejercicio-1\",\"ejercicio-2\"],\n",
    "    source_nb = \"C:\\\\Users\\\\egeah\\\\netbooks\\\\notebookA.ipynb\",\n",
    "    cell_types = ['code','markdown'],\n",
    ")"
   ]
  },
  {
   "cell_type": "code",
   "execution_count": 4,
   "metadata": {},
   "outputs": [],
   "source": [
    "import json\n",
    "\n",
    "with open(\"backups\\\\backup.json\", \"w\") as f:\n",
    "    f.write(json.dumps({}))"
   ]
  }
 ],
 "metadata": {
  "kernelspec": {
   "display_name": "IntEmp",
   "language": "python",
   "name": "python3"
  },
  "language_info": {
   "codemirror_mode": {
    "name": "ipython",
    "version": 3
   },
   "file_extension": ".py",
   "mimetype": "text/x-python",
   "name": "python",
   "nbconvert_exporter": "python",
   "pygments_lexer": "ipython3",
   "version": "3.10.9"
  },
  "orig_nbformat": 4
 },
 "nbformat": 4,
 "nbformat_minor": 2
}
